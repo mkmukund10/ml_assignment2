{
 "cells": [
  {
   "cell_type": "code",
   "execution_count": 1,
   "metadata": {},
   "outputs": [],
   "source": [
    "import mlrose_hiive\n",
    "import numpy as np\n",
    "import matplotlib.pyplot as plt"
   ]
  },
  {
   "cell_type": "code",
   "execution_count": 2,
   "metadata": {},
   "outputs": [],
   "source": [
    "#define problem\n",
    "problem = mlrose_hiive.QueensGenerator.generate(seed=42, size=32)"
   ]
  },
  {
   "cell_type": "code",
   "execution_count": 3,
   "metadata": {},
   "outputs": [],
   "source": [
    "#run randomized optimization algorithm\n",
    "rhc = mlrose_hiive.RHCRunner(problem=problem,\n",
    "                    experiment_name=\"RHC_Queens\",\n",
    "                    output_directory=\"out\",\n",
    "                    seed=42,\n",
    "                    iteration_list=2 ** np.arange(13),\n",
    "                    max_attempts=500,\n",
    "                    restart_list=[100])\n",
    "df_run_stats_rhc, df_run_curves_rhc = rhc.run()"
   ]
  },
  {
   "cell_type": "code",
   "execution_count": 4,
   "metadata": {},
   "outputs": [],
   "source": [
    "# run simulated annealing optimization algorithm\n",
    "sa = mlrose_hiive.SARunner(problem=problem,\n",
    "                  experiment_name=\"SA_Queens\",\n",
    "                  output_directory=\"out\",\n",
    "                  seed=42,\n",
    "                  iteration_list=2 ** np.arange(13),\n",
    "                  max_attempts=500,\n",
    "                  temperature_list=[1, 2, 3, 4, 5, 6, 7, 8, 9, 10, 50, 100],\n",
    "                  decay_list=[mlrose_hiive.GeomDecay, mlrose_hiive.ExpDecay])\n",
    "# the two data frames will contain the results\n",
    "df_run_stats_sa, df_run_curves_sa = sa.run()"
   ]
  },
  {
   "cell_type": "code",
   "execution_count": 5,
   "metadata": {},
   "outputs": [],
   "source": [
    "#run genetic algorithm optimization algorithm\n",
    "ga = mlrose_hiive.GARunner(problem=problem,\n",
    "                  experiment_name=\"GA_Queens\",\n",
    "                  output_directory=\"out\",\n",
    "                  seed=42,\n",
    "                  iteration_list=2 ** np.arange(13),\n",
    "                  max_attempts=200,\n",
    "                  population_sizes=[200, 500, 1000, 2000, 3000, 4000],\n",
    "                  mutation_rates=[0.1, 0.2, 0.3, 0.4, 0.5, 0.6])\n",
    "\n",
    "# the two data frames will contain the results\n",
    "df_run_stats_ga, df_run_curves_ga = ga.run() "
   ]
  },
  {
   "cell_type": "code",
   "execution_count": 6,
   "metadata": {},
   "outputs": [],
   "source": [
    "#run mimic optimization algorithm\n",
    "mmc = mlrose_hiive.MIMICRunner(problem=problem,\n",
    "                      experiment_name=\"MMC_Queens\",\n",
    "                      output_directory=\"out\",\n",
    "                      seed=42,\n",
    "                      iteration_list=2 ** np.arange(13),\n",
    "                      max_attempts=200,\n",
    "                      keep_percent_list=[0.25, 0.5, 0.75],\n",
    "                      population_sizes = [1000, 2000, 3000, 4000, 5000, 6000, 8000, 10000], use_fast_mimic=True)\n",
    "\n",
    "# the two data frames will contain the results\n",
    "df_run_stats_mmc, df_run_curves_mmc = mmc.run()"
   ]
  },
  {
   "cell_type": "code",
   "execution_count": 7,
   "metadata": {},
   "outputs": [
    {
     "data": {
      "text/plain": [
       "<bound method NDFrame.head of         Iteration      Time  Fitness    FEvals  Restarts  max_iters  \\\n",
       "0               0  0.005032     29.0       0.0       100       4096   \n",
       "1               1  0.035465     29.0       1.0       100       4096   \n",
       "2               2  0.048833     29.0       2.0       100       4096   \n",
       "3               3  0.062161     29.0       3.0       100       4096   \n",
       "4               4  0.063264     29.0       4.0       100       4096   \n",
       "...           ...       ...      ...       ...       ...        ...   \n",
       "120955        892  2.151879      5.0  123191.0       100       4096   \n",
       "120956        893  2.155929      5.0  123192.0       100       4096   \n",
       "120957        894  2.159802      5.0  123193.0       100       4096   \n",
       "120958        895  2.163671      5.0  123194.0       100       4096   \n",
       "120959        896  2.167565      5.0  123195.0       100       4096   \n",
       "\n",
       "        current_restart  \n",
       "0                     0  \n",
       "1                     0  \n",
       "2                     0  \n",
       "3                     0  \n",
       "4                     0  \n",
       "...                 ...  \n",
       "120955              100  \n",
       "120956              100  \n",
       "120957              100  \n",
       "120958              100  \n",
       "120959              100  \n",
       "\n",
       "[120960 rows x 7 columns]>"
      ]
     },
     "execution_count": 7,
     "metadata": {},
     "output_type": "execute_result"
    }
   ],
   "source": [
    "df_run_curves_rhc.head"
   ]
  },
  {
   "cell_type": "code",
   "execution_count": 8,
   "metadata": {},
   "outputs": [
    {
     "data": {
      "text/plain": [
       "Text(0, 0.5, 'Fitness')"
      ]
     },
     "execution_count": 8,
     "metadata": {},
     "output_type": "execute_result"
    },
    {
     "data": {
      "image/png": "[encoded data removed]",
      "text/plain": [
       "<Figure size 432x288 with 1 Axes>"
      ]
     },
     "metadata": {
      "needs_background": "light"
     },
     "output_type": "display_data"
    }
   ],
   "source": [
    "# Plot Iterations vs Fitness\n",
    "plt.plot(df_run_curves_rhc['Iteration'], df_run_curves_rhc['Fitness'], label='RHC', color='green')\n",
    "plt.plot(df_run_curves_sa['Iteration'], df_run_curves_sa['Fitness'], label='SA', color='red')\n",
    "plt.plot(df_run_curves_ga['Iteration'], df_run_curves_ga['Fitness'], label='GA', color='blue')\n",
    "plt.plot(df_run_curves_mmc['Iteration'], df_run_curves_mmc['Fitness'], label='MIMIC', color='orange')\n",
    "plt.legend(loc=\"best\")\n",
    "plt.xlabel(\"Iterations\")\n",
    "plt.ylabel(\"Fitness\")"
   ]
  },
  {
   "cell_type": "code",
   "execution_count": 9,
   "metadata": {},
   "outputs": [],
   "source": [
    "# Plot Iterations vs Fitness\n",
    "df_stats_rhc_best = df_run_stats_rhc.loc[(df_run_stats_rhc['Restarts']==100) & (df_run_stats_rhc['current_restart']==11)]\n",
    "df_stats_sa_best = df_run_stats_sa.loc[(df_run_stats_sa['schedule_type']=='geometric') & (df_run_stats_sa['schedule_init_temp']==6)]\n",
    "df_stats_ga_best = df_run_stats_ga.loc[(df_run_stats_ga['Population Size']==200) & (df_run_stats_ga['Mutation Rate']==0.6)]\n",
    "df_stats_mmc_best = df_run_stats_mmc.loc[(df_run_stats_mmc['Population Size']==8000) & (df_run_stats_mmc['Keep Percent']==0.75)]"
   ]
  },
  {
   "cell_type": "code",
   "execution_count": 10,
   "metadata": {},
   "outputs": [
    {
     "data": {
      "image/png": "[encoded data removed]",
      "text/plain": [
       "<Figure size 432x288 with 1 Axes>"
      ]
     },
     "metadata": {
      "needs_background": "light"
     },
     "output_type": "display_data"
    }
   ],
   "source": [
    "plt.plot(df_stats_rhc_best['Iteration'], df_stats_rhc_best['Fitness'], label='RHC', color='green')\n",
    "plt.plot(df_stats_sa_best['Iteration'], df_stats_sa_best['Fitness'], label='SA', color='red')\n",
    "plt.plot(df_stats_ga_best['Iteration'], df_stats_ga_best['Fitness'], label='GA', color='blue')\n",
    "plt.plot(df_stats_mmc_best['Iteration'], df_stats_mmc_best['Fitness'], label='MIMIC', color='orange')\n",
    "plt.legend(loc=\"best\")\n",
    "plt.xlabel(\"Iterations\")\n",
    "plt.ylabel(\"Fitness\")\n",
    "plt.grid()\n",
    "plt.title(\"Fitness Vs Iterations Queens\")\n",
    "plt.savefig(\"Fitness Vs Iterations Queens\")"
   ]
  },
  {
   "cell_type": "code",
   "execution_count": 11,
   "metadata": {},
   "outputs": [
    {
     "data": {
      "image/png": "[encoded data removed]",
      "text/plain": [
       "<Figure size 432x288 with 1 Axes>"
      ]
     },
     "metadata": {
      "needs_background": "light"
     },
     "output_type": "display_data"
    }
   ],
   "source": [
    "plt.plot(df_stats_rhc_best['Iteration'], df_stats_rhc_best['Time'], label='RHC', color='green')\n",
    "plt.plot(df_stats_sa_best['Iteration'], df_stats_sa_best['Time'], label='SA', color='red')\n",
    "plt.plot(df_stats_ga_best['Iteration'], df_stats_ga_best['Time'], label='GA', color='blue')\n",
    "plt.plot(df_stats_mmc_best['Iteration'], df_stats_mmc_best['Time'], label='MIMIC', color='orange')\n",
    "plt.legend(loc=\"best\")\n",
    "plt.xlabel(\"Iterations\")\n",
    "plt.ylabel(\"Time\")\n",
    "plt.yscale('log')\n",
    "plt.grid()\n",
    "plt.title(\"Time Vs Iterations Queens\")\n",
    "plt.savefig(\"Time Vs Iterations Queens\")"
   ]
  },
  {
   "cell_type": "code",
   "execution_count": 12,
   "metadata": {},
   "outputs": [
    {
     "data": {
      "image/png": "[encoded data removed]",
      "text/plain": [
       "<Figure size 432x288 with 1 Axes>"
      ]
     },
     "metadata": {
      "needs_background": "light"
     },
     "output_type": "display_data"
    }
   ],
   "source": [
    "plt.plot(df_stats_rhc_best['Iteration'], df_stats_rhc_best['FEvals'], label='RHC', color='green')\n",
    "plt.plot(df_stats_sa_best['Iteration'], df_stats_sa_best['FEvals'], label='SA', color='red')\n",
    "plt.plot(df_stats_ga_best['Iteration'], df_stats_ga_best['FEvals'], label='GA', color='blue')\n",
    "plt.plot(df_stats_mmc_best['Iteration'], df_stats_mmc_best['FEvals'], label='MIMIC', color='orange')\n",
    "plt.legend(loc=\"best\")\n",
    "plt.xlabel(\"Iterations\")\n",
    "plt.ylabel(\"FEvals\")\n",
    "plt.yscale('log')\n",
    "plt.grid()\n",
    "plt.title(\"Function Evaluations Vs Iterations Queens\")\n",
    "plt.savefig(\"Function Evaluations Vs Iterations Queens\")"
   ]
  },
  {
   "cell_type": "code",
   "execution_count": 14,
   "metadata": {},
   "outputs": [],
   "source": [
    "#define problem\n",
    "problem1 = mlrose_hiive.QueensGenerator.generate(seed=42, size=4)\n",
    "problem2 = mlrose_hiive.QueensGenerator.generate(seed=42, size=8)\n",
    "problem3 = mlrose_hiive.QueensGenerator.generate(seed=42, size=16)\n",
    "problem4 = mlrose_hiive.QueensGenerator.generate(seed=42, size=32)\n",
    "problem5 = mlrose_hiive.QueensGenerator.generate(seed=42, size=64)"
   ]
  },
  {
   "cell_type": "code",
   "execution_count": 15,
   "metadata": {},
   "outputs": [],
   "source": [
    "#run randomized optimization algorithm\n",
    "rhc1 = mlrose_hiive.RHCRunner(problem=problem1,\n",
    "                    experiment_name=\"RHC1_Queens\",\n",
    "                    output_directory=\"out\",\n",
    "                    seed=42,\n",
    "                    iteration_list=[4096],\n",
    "                    max_attempts=500,\n",
    "                    restart_list=[12])\n",
    "df_run_stats_rhc1, df_run_curves_rhc1 = rhc1.run()\n",
    "\n",
    "rhc2 = mlrose_hiive.RHCRunner(problem=problem2,\n",
    "                    experiment_name=\"RHC2_Queens\",\n",
    "                    output_directory=\"out\",\n",
    "                    seed=42,\n",
    "                    iteration_list=[4096],\n",
    "                    max_attempts=500,\n",
    "                    restart_list=[12])\n",
    "df_run_stats_rhc2, df_run_curves_rhc2 = rhc2.run()\n",
    "\n",
    "rhc3 = mlrose_hiive.RHCRunner(problem=problem3,\n",
    "                    experiment_name=\"RHC3_Queens\",\n",
    "                    output_directory=\"out\",\n",
    "                    seed=42,\n",
    "                    iteration_list=[4096],\n",
    "                    max_attempts=500,\n",
    "                    restart_list=[12])\n",
    "df_run_stats_rhc3, df_run_curves_rhc3 = rhc3.run()\n",
    "\n",
    "rhc4 = mlrose_hiive.RHCRunner(problem=problem4,\n",
    "                    experiment_name=\"RHC4_Queens\",\n",
    "                    output_directory=\"out\",\n",
    "                    seed=42,\n",
    "                    iteration_list=[4096],\n",
    "                    max_attempts=500,\n",
    "                    restart_list=[12])\n",
    "df_run_stats_rhc4, df_run_curves_rhc4 = rhc4.run()\n",
    "\n",
    "rhc5 = mlrose_hiive.RHCRunner(problem=problem5,\n",
    "                    experiment_name=\"RHC5_Queens\",\n",
    "                    output_directory=\"out\",\n",
    "                    seed=42,\n",
    "                    iteration_list=[4096],\n",
    "                    max_attempts=500,\n",
    "                    restart_list=[12])\n",
    "df_run_stats_rhc5, df_run_curves_rhc5 = rhc5.run()"
   ]
  },
  {
   "cell_type": "code",
   "execution_count": 16,
   "metadata": {},
   "outputs": [],
   "source": [
    "# run simulated annealing optimization algorithm\n",
    "sa1 = mlrose_hiive.SARunner(problem=problem1,\n",
    "                  experiment_name=\"SA1_Queens\",\n",
    "                  output_directory=\"out\",\n",
    "                  seed=42,\n",
    "                  iteration_list=[4096],\n",
    "                  max_attempts=500,\n",
    "                  temperature_list=[6],\n",
    "                  decay_list=[mlrose_hiive.GeomDecay])\n",
    "# the two data frames will contain the results\n",
    "df_run_stats_sa1, df_run_curves_sa1 = sa1.run()\n",
    "\n",
    "sa2 = mlrose_hiive.SARunner(problem=problem2,\n",
    "                  experiment_name=\"SA2_Queens\",\n",
    "                  output_directory=\"out\",\n",
    "                  seed=42,\n",
    "                  iteration_list=[4096],\n",
    "                  max_attempts=500,\n",
    "                  temperature_list=[6],\n",
    "                  decay_list=[mlrose_hiive.GeomDecay])\n",
    "# the two data frames will contain the results\n",
    "df_run_stats_sa2, df_run_curves_sa2 = sa2.run()\n",
    "\n",
    "sa3 = mlrose_hiive.SARunner(problem=problem3,\n",
    "                  experiment_name=\"SA3_Queens\",\n",
    "                  output_directory=\"out\",\n",
    "                  seed=42,\n",
    "                  iteration_list=[4096],\n",
    "                  max_attempts=500,\n",
    "                  temperature_list=[6],\n",
    "                  decay_list=[mlrose_hiive.GeomDecay])\n",
    "# the two data frames will contain the results\n",
    "df_run_stats_sa3, df_run_curves_sa3 = sa3.run()\n",
    "\n",
    "sa4 = mlrose_hiive.SARunner(problem=problem4,\n",
    "                  experiment_name=\"SA4_Queens\",\n",
    "                  output_directory=\"out\",\n",
    "                  seed=42,\n",
    "                  iteration_list=[4096],\n",
    "                  max_attempts=500,\n",
    "                  temperature_list=[6],\n",
    "                  decay_list=[mlrose_hiive.GeomDecay])\n",
    "# the two data frames will contain the results\n",
    "df_run_stats_sa4, df_run_curves_sa4 = sa4.run()\n",
    "\n",
    "sa5 = mlrose_hiive.SARunner(problem=problem5,\n",
    "                  experiment_name=\"SA5_Queens\",\n",
    "                  output_directory=\"out\",\n",
    "                  seed=42,\n",
    "                  iteration_list=[4096],\n",
    "                  max_attempts=500,\n",
    "                  temperature_list=[6],\n",
    "                  decay_list=[mlrose_hiive.GeomDecay])\n",
    "# the two data frames will contain the results\n",
    "df_run_stats_sa5, df_run_curves_sa5 = sa5.run()"
   ]
  },
  {
   "cell_type": "code",
   "execution_count": 17,
   "metadata": {},
   "outputs": [],
   "source": [
    "#run genetic algorithm optimization algorithm\n",
    "ga1 = mlrose_hiive.GARunner(problem=problem1,\n",
    "                  experiment_name=\"GA1_Queens\",\n",
    "                  output_directory=\"out\",\n",
    "                  seed=42,\n",
    "                  iteration_list=[4096],\n",
    "                  max_attempts=200,\n",
    "                  population_sizes=[200],\n",
    "                  mutation_rates=[0.6])\n",
    "\n",
    "# the two data frames will contain the results\n",
    "df_run_stats_ga1, df_run_curves_ga1 = ga1.run() \n",
    "\n",
    "ga2 = mlrose_hiive.GARunner(problem=problem2,\n",
    "                  experiment_name=\"GA2_Queens\",\n",
    "                  output_directory=\"out\",\n",
    "                  seed=42,\n",
    "                  iteration_list=[4096],\n",
    "                  max_attempts=200,\n",
    "                  population_sizes=[200],\n",
    "                  mutation_rates=[0.6])\n",
    "\n",
    "# the two data frames will contain the results\n",
    "df_run_stats_ga2, df_run_curves_ga2 = ga2.run() \n",
    "\n",
    "ga3 = mlrose_hiive.GARunner(problem=problem3,\n",
    "                  experiment_name=\"GA3_Queens\",\n",
    "                  output_directory=\"out\",\n",
    "                  seed=42,\n",
    "                  iteration_list=[4096],\n",
    "                  max_attempts=200,\n",
    "                  population_sizes=[200],\n",
    "                  mutation_rates=[0.6])\n",
    "\n",
    "# the two data frames will contain the results\n",
    "df_run_stats_ga3, df_run_curves_ga3 = ga3.run() \n",
    "\n",
    "ga4 = mlrose_hiive.GARunner(problem=problem4,\n",
    "                  experiment_name=\"GA4_Queens\",\n",
    "                  output_directory=\"out\",\n",
    "                  seed=42,\n",
    "                  iteration_list=[4096],\n",
    "                  max_attempts=200,\n",
    "                  population_sizes=[200],\n",
    "                  mutation_rates=[0.6])\n",
    "\n",
    "# the two data frames will contain the results\n",
    "df_run_stats_ga4, df_run_curves_ga4 = ga4.run() \n",
    "\n",
    "ga5 = mlrose_hiive.GARunner(problem=problem5,\n",
    "                  experiment_name=\"GA5_Queens\",\n",
    "                  output_directory=\"out\",\n",
    "                  seed=42,\n",
    "                  iteration_list=[4096],\n",
    "                  max_attempts=200,\n",
    "                  population_sizes=[200],\n",
    "                  mutation_rates=[0.6])\n",
    "\n",
    "# the two data frames will contain the results\n",
    "df_run_stats_ga5, df_run_curves_ga5 = ga5.run() "
   ]
  },
  {
   "cell_type": "code",
   "execution_count": null,
   "metadata": {},
   "outputs": [],
   "source": [
    "#run mimic optimization algorithm\n",
    "mmc1 = mlrose_hiive.MIMICRunner(problem=problem1,\n",
    "                      experiment_name=\"MMC1_Queens\",\n",
    "                      output_directory=\"out\",\n",
    "                      seed=42,\n",
    "                      iteration_list=[4096],\n",
    "                      max_attempts=200,\n",
    "                      keep_percent_list=[0.75],\n",
    "                      population_sizes = [8000], use_fast_mimic=True)\n",
    "\n",
    "# the two data frames will contain the results\n",
    "df_run_stats_mmc1, df_run_curves_mmc1 = mmc1.run()\n",
    "\n",
    "mmc2 = mlrose_hiive.MIMICRunner(problem=problem2,\n",
    "                      experiment_name=\"MMC2_Queens\",\n",
    "                      output_directory=\"out\",\n",
    "                      seed=42,\n",
    "                      iteration_list=[4096],\n",
    "                      max_attempts=200,\n",
    "                      keep_percent_list=[0.75],\n",
    "                      population_sizes = [8000], use_fast_mimic=True)\n",
    "\n",
    "# the two data frames will contain the results\n",
    "df_run_stats_mmc2, df_run_curves_mmc2 = mmc2.run()ii\n",
    "\n",
    "mmc3 = mlrose_hiive.MIMICRunner(problem=problem3,\n",
    "                      experiment_name=\"MMC3_Queens\",\n",
    "                      output_directory=\"out\",\n",
    "                      seed=42,\n",
    "                      iteration_list=[4096],\n",
    "                      max_attempts=200,\n",
    "                      keep_percent_list=[0.75],\n",
    "                      population_sizes = [8000], use_fast_mimic=True)\n",
    "\n",
    "# the two data frames will contain the results\n",
    "df_run_stats_mmc3, df_run_curves_mmc3 = mmc3.run()\n",
    "\n",
    "mmc4 = mlrose_hiive.MIMICRunner(problem=problem4,\n",
    "                      experiment_name=\"MMC4_Queens\",\n",
    "                      output_directory=\"out\",\n",
    "                      seed=42,\n",
    "                      iteration_list=[4096],\n",
    "                      max_attempts=200,\n",
    "                      keep_percent_list=[0.75],\n",
    "                      population_sizes = [8000], use_fast_mimic=True)\n",
    "\n",
    "# the two data frames will contain the results\n",
    "df_run_stats_mmc4, df_run_curves_mmc4 = mmc4.run()\n",
    "\n",
    "mmc5 = mlrose_hiive.MIMICRunner(problem=problem5,\n",
    "                      experiment_name=\"MMC5_Queens\",\n",
    "                      output_directory=\"out\",\n",
    "                      seed=42,\n",
    "                      iteration_list=[4096],\n",
    "                      max_attempts=200,\n",
    "                      keep_percent_list=[0.75],\n",
    "                      population_sizes = [8000], use_fast_mimic=True)\n",
    "\n",
    "# the two data frames will contain the results\n",
    "df_run_stats_mmc5, df_run_curves_mmc5 = mmc5.run()"
   ]
  },
  {
   "cell_type": "code",
   "execution_count": null,
   "metadata": {},
   "outputs": [],
   "source": [
    "data_rhc = [{'Problem Size': 4, 'Fitness': df_run_stats_rhc1['Fitness'].max()},\n",
    "           {'Problem Size': 8, 'Fitness': df_run_stats_rhc2['Fitness'].max()},\n",
    "           {'Problem Size': 16, 'Fitness': df_run_stats_rhc3['Fitness'].max()},\n",
    "           {'Problem Size': 32, 'Fitness': df_run_stats_rhc4['Fitness'].max()},\n",
    "           {'Problem Size': 64, 'Fitness': df_run_stats_rhc5['Fitness'].max()}]\n",
    "df_rhc = pd.DataFrame(data_rhc)"
   ]
  },
  {
   "cell_type": "code",
   "execution_count": null,
   "metadata": {},
   "outputs": [],
   "source": [
    "data_sa = [{'Problem Size': 4, 'Fitness': df_run_stats_sa1['Fitness'].max()},\n",
    "           {'Problem Size': 8, 'Fitness': df_run_stats_sa2['Fitness'].max()},\n",
    "           {'Problem Size': 16, 'Fitness': df_run_stats_sa3['Fitness'].max()},\n",
    "           {'Problem Size': 32, 'Fitness': df_run_stats_sa4['Fitness'].max()},\n",
    "           {'Problem Size': 64, 'Fitness': df_run_stats_sa5['Fitness'].max()}]\n",
    "df_sa = pd.DataFrame(data_sa)"
   ]
  },
  {
   "cell_type": "code",
   "execution_count": null,
   "metadata": {},
   "outputs": [],
   "source": [
    "data_ga = [{'Problem Size': 4, 'Fitness': df_run_stats_ga1['Fitness'].max()},\n",
    "           {'Problem Size': 8, 'Fitness': df_run_stats_ga2['Fitness'].max()},\n",
    "           {'Problem Size': 16, 'Fitness': df_run_stats_ga3['Fitness'].max()},\n",
    "           {'Problem Size': 32, 'Fitness': df_run_stats_ga4['Fitness'].max()},\n",
    "           {'Problem Size': 64, 'Fitness': df_run_stats_ga5['Fitness'].max()}]\n",
    "df_ga = pd.DataFrame(data_ga)"
   ]
  },
  {
   "cell_type": "code",
   "execution_count": null,
   "metadata": {},
   "outputs": [],
   "source": [
    "data_mmc = [{'Problem Size': 4, 'Fitness': df_run_stats_mmc1['Fitness'].max()},\n",
    "           {'Problem Size': 8, 'Fitness': df_run_stats_mmc2['Fitness'].max()},\n",
    "           {'Problem Size': 16, 'Fitness': df_run_stats_mmc3['Fitness'].max()},\n",
    "           {'Problem Size': 32, 'Fitness': df_run_stats_mmc4['Fitness'].max()},\n",
    "           {'Problem Size': 64, 'Fitness': df_run_stats_mmc5['Fitness'].max()}]\n",
    "df_mmc = pd.DataFrame(data_mmc)"
   ]
  },
  {
   "cell_type": "code",
   "execution_count": null,
   "metadata": {},
   "outputs": [],
   "source": [
    "plt.plot(df_rhc['Problem Size'], df_rhc['Fitness'], label='RHC', color='green')\n",
    "plt.plot(df_sa['Problem Size'], df_sa['Fitness'], label='SA', color='red')\n",
    "plt.plot(df_ga['Problem Size'], df_ga['Fitness'], label='GA', color='blue')\n",
    "plt.plot(df_mmc['Problem Size'], df_mmc['Fitness'], label='MIMIC', color='orange')\n",
    "plt.legend(loc=\"best\")\n",
    "plt.xlabel(\"Problem Size\")\n",
    "plt.ylabel(\"Fitness\")\n",
    "plt.grid()\n",
    "plt.title(\"Fitness vs Problem Size Queens\")\n",
    "plt.savefig(\"Fitness vs Problem Size Queens\")"
   ]
  }
 ],
 "metadata": {
  "kernelspec": {
   "display_name": "Python 3",
   "language": "python",
   "name": "python3"
  },
  "language_info": {
   "codemirror_mode": {
    "name": "ipython",
    "version": 3
   },
   "file_extension": ".py",
   "mimetype": "text/x-python",
   "name": "python",
   "nbconvert_exporter": "python",
   "pygments_lexer": "ipython3",
   "version": "3.8.5"
  }
 },
 "nbformat": 4,
 "nbformat_minor": 4
}
